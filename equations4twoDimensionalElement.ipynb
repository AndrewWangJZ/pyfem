{
 "cells": [
  {
   "cell_type": "code",
   "execution_count": 2,
   "id": "fafc27de-4ea2-4135-a97a-1aa08753157a",
   "metadata": {},
   "outputs": [],
   "source": [
    "import numpy as np\n",
    "import sympy as sym\n",
    "\n",
    "x_1, x_2, x_3, x_4 = sym.symbols('x_1, x_2, x_3, x_4')\n",
    "y_1, y_2, y_3, y_4 = sym.symbols('y_1, y_2, y_3, y_4')\n",
    "XY = sym.Matrix([sym.symbols('x_1, x_2, x_3, x_4'), sym.symbols('y_1, y_2, y_3, y_4')]).transpose()\n",
    "xi, eta = sym.symbols('xi, eta')\n",
    "basis = sym.Matrix([xi, eta])\n",
    "N1 = (1-xi)*(1-eta)/4\n",
    "N2 = (1+xi)*(1-eta)/4\n",
    "N3 = (1+xi)*(1+eta)/4\n",
    "N4 = (1-xi)*(1+eta)/4\n",
    "NN = sym.Matrix([N1, N2, N3, N4])\n",
    "\n",
    "coordinate = (NN.transpose()*XY).transpose()\n",
    "\n",
    "NN_diff = NN.jacobian(basis)\n",
    "jacob = coordinate.jacobian(basis)\n",
    "\n",
    "jacob_det = sym.det(jacob)\n",
    "jacob_inv = sym.inv_quick(jacob)\n",
    "\n",
    "NN_diff_global = (NN_diff*jacob_inv)\n",
    "temp = NN_diff_global*NN_diff_global.transpose()/jacob_det\n",
    "\n",
    "sq3 = np.sqrt(1/3)"
   ]
  },
  {
   "cell_type": "code",
   "execution_count": 3,
   "id": "89f4fa34-2247-476a-8165-f9ac25b8b353",
   "metadata": {},
   "outputs": [
    {
     "data": {
      "text/latex": [
       "$\\displaystyle \\left[\\begin{matrix}\\frac{\\left(1 - \\eta\\right) \\left(1 - \\xi\\right)}{4}\\\\\\frac{\\left(1 - \\eta\\right) \\left(\\xi + 1\\right)}{4}\\\\\\frac{\\left(\\eta + 1\\right) \\left(\\xi + 1\\right)}{4}\\\\\\frac{\\left(1 - \\xi\\right) \\left(\\eta + 1\\right)}{4}\\end{matrix}\\right]$"
      ],
      "text/plain": [
       "Matrix([\n",
       "[(1 - eta)*(1 - xi)/4],\n",
       "[(1 - eta)*(xi + 1)/4],\n",
       "[(eta + 1)*(xi + 1)/4],\n",
       "[(1 - xi)*(eta + 1)/4]])"
      ]
     },
     "execution_count": 3,
     "metadata": {},
     "output_type": "execute_result"
    }
   ],
   "source": [
    "NN"
   ]
  },
  {
   "cell_type": "code",
   "execution_count": 34,
   "id": "0cfccc97-7b82-4460-8ad9-675d128a4b91",
   "metadata": {},
   "outputs": [
    {
     "data": {
      "text/latex": [
       "$\\displaystyle \\left[\\begin{matrix}\\frac{x_{1} \\left(1 - \\eta\\right) \\left(1 - \\xi\\right)}{4} + \\frac{x_{2} \\left(1 - \\eta\\right) \\left(\\xi + 1\\right)}{4} + \\frac{x_{3} \\left(\\eta + 1\\right) \\left(\\xi + 1\\right)}{4} + \\frac{x_{4} \\left(1 - \\xi\\right) \\left(\\eta + 1\\right)}{4}\\\\\\frac{y_{1} \\left(1 - \\eta\\right) \\left(1 - \\xi\\right)}{4} + \\frac{y_{2} \\left(1 - \\eta\\right) \\left(\\xi + 1\\right)}{4} + \\frac{y_{3} \\left(\\eta + 1\\right) \\left(\\xi + 1\\right)}{4} + \\frac{y_{4} \\left(1 - \\xi\\right) \\left(\\eta + 1\\right)}{4}\\end{matrix}\\right]$"
      ],
      "text/plain": [
       "Matrix([\n",
       "[x_1*(1 - eta)*(1 - xi)/4 + x_2*(1 - eta)*(xi + 1)/4 + x_3*(eta + 1)*(xi + 1)/4 + x_4*(1 - xi)*(eta + 1)/4],\n",
       "[y_1*(1 - eta)*(1 - xi)/4 + y_2*(1 - eta)*(xi + 1)/4 + y_3*(eta + 1)*(xi + 1)/4 + y_4*(1 - xi)*(eta + 1)/4]])"
      ]
     },
     "execution_count": 34,
     "metadata": {},
     "output_type": "execute_result"
    }
   ],
   "source": [
    "coordinate"
   ]
  },
  {
   "cell_type": "code",
   "execution_count": 35,
   "id": "126dd268-082c-4a05-813c-1616b84dc7fe",
   "metadata": {},
   "outputs": [
    {
     "data": {
      "text/latex": [
       "$\\displaystyle \\left[\\begin{matrix}- \\frac{x_{1} \\left(1 - \\eta\\right)}{4} + \\frac{x_{2} \\left(1 - \\eta\\right)}{4} + \\frac{x_{3} \\left(\\eta + 1\\right)}{4} - \\frac{x_{4} \\left(\\eta + 1\\right)}{4} & - \\frac{x_{1} \\left(1 - \\xi\\right)}{4} - \\frac{x_{2} \\left(\\xi + 1\\right)}{4} + \\frac{x_{3} \\left(\\xi + 1\\right)}{4} + \\frac{x_{4} \\left(1 - \\xi\\right)}{4}\\\\- \\frac{y_{1} \\left(1 - \\eta\\right)}{4} + \\frac{y_{2} \\left(1 - \\eta\\right)}{4} + \\frac{y_{3} \\left(\\eta + 1\\right)}{4} - \\frac{y_{4} \\left(\\eta + 1\\right)}{4} & - \\frac{y_{1} \\left(1 - \\xi\\right)}{4} - \\frac{y_{2} \\left(\\xi + 1\\right)}{4} + \\frac{y_{3} \\left(\\xi + 1\\right)}{4} + \\frac{y_{4} \\left(1 - \\xi\\right)}{4}\\end{matrix}\\right]$"
      ],
      "text/plain": [
       "Matrix([\n",
       "[-x_1*(1 - eta)/4 + x_2*(1 - eta)/4 + x_3*(eta + 1)/4 - x_4*(eta + 1)/4, -x_1*(1 - xi)/4 - x_2*(xi + 1)/4 + x_3*(xi + 1)/4 + x_4*(1 - xi)/4],\n",
       "[-y_1*(1 - eta)/4 + y_2*(1 - eta)/4 + y_3*(eta + 1)/4 - y_4*(eta + 1)/4, -y_1*(1 - xi)/4 - y_2*(xi + 1)/4 + y_3*(xi + 1)/4 + y_4*(1 - xi)/4]])"
      ]
     },
     "execution_count": 35,
     "metadata": {},
     "output_type": "execute_result"
    }
   ],
   "source": [
    "jacob"
   ]
  },
  {
   "cell_type": "code",
   "execution_count": 36,
   "id": "e5fffe20-def5-4ded-800b-f30867bca51d",
   "metadata": {},
   "outputs": [
    {
     "data": {
      "text/latex": [
       "$\\displaystyle \\left[\\begin{matrix}0.425 - 0.025 \\eta & 0.325 - 0.025 \\xi\\\\0.075 \\eta - 0.475 & 0.075 \\xi + 0.325\\end{matrix}\\right]$"
      ],
      "text/plain": [
       "Matrix([\n",
       "[0.425 - 0.025*eta, 0.325 - 0.025*xi],\n",
       "[0.075*eta - 0.475, 0.075*xi + 0.325]])"
      ]
     },
     "execution_count": 36,
     "metadata": {},
     "output_type": "execute_result"
    }
   ],
   "source": [
    "jacob.subs(([x_1, -0.7], [x_2, 0.2], [x_3, 0.8], [x_4, 0], [y_1, 0.3], [y_2, -0.8], [y_3, 0], [y_4, 0.8]))"
   ]
  },
  {
   "cell_type": "code",
   "execution_count": 37,
   "id": "531ada55-712b-45bd-b477-0a0a1d5a794f",
   "metadata": {},
   "outputs": [
    {
     "data": {
      "text/latex": [
       "$\\displaystyle \\left[\\begin{matrix}0.5 & 0.5\\\\-0.5 & 0.5\\end{matrix}\\right]$"
      ],
      "text/plain": [
       "Matrix([\n",
       "[ 0.5, 0.5],\n",
       "[-0.5, 0.5]])"
      ]
     },
     "execution_count": 37,
     "metadata": {},
     "output_type": "execute_result"
    }
   ],
   "source": [
    "jacob.subs(([xi, sq3], [eta, -sq3], [x_1, -0.8], [x_2, 0], [x_3, 0.8], [x_4, 0], [y_1, 0], [y_2, -0.8], [y_3, 0], [y_4, 0.8]))"
   ]
  },
  {
   "cell_type": "code",
   "execution_count": 38,
   "id": "806e916c-f574-458b-9742-66b45b3977a2",
   "metadata": {},
   "outputs": [
    {
     "data": {
      "text/latex": [
       "$\\displaystyle \\left[\\begin{matrix}1.25 & -1.25\\\\1.25 & 1.25\\end{matrix}\\right]$"
      ],
      "text/plain": [
       "Matrix([\n",
       "[1.25, -1.25],\n",
       "[1.25,  1.25]])"
      ]
     },
     "execution_count": 38,
     "metadata": {},
     "output_type": "execute_result"
    }
   ],
   "source": [
    "jaco_inv = sym.inv_quick(jaco)\n",
    "jaco_inv"
   ]
  },
  {
   "cell_type": "code",
   "execution_count": 39,
   "id": "f536856d-582b-4e39-80b8-9ee335e130aa",
   "metadata": {},
   "outputs": [
    {
     "data": {
      "text/latex": [
       "$\\displaystyle \\left[\\begin{matrix}-0.394337567297406 & -0.105662432702594\\\\0.394337567297406 & -0.394337567297406\\\\0.105662432702594 & 0.394337567297406\\\\-0.105662432702594 & 0.105662432702594\\end{matrix}\\right]$"
      ],
      "text/plain": [
       "Matrix([\n",
       "[-0.394337567297406, -0.105662432702594],\n",
       "[ 0.394337567297406, -0.394337567297406],\n",
       "[ 0.105662432702594,  0.394337567297406],\n",
       "[-0.105662432702594,  0.105662432702594]])"
      ]
     },
     "execution_count": 39,
     "metadata": {},
     "output_type": "execute_result"
    }
   ],
   "source": [
    "NN_diff.subs(([xi, sq3], [eta, -sq3]))"
   ]
  },
  {
   "cell_type": "code",
   "execution_count": 40,
   "id": "24d6f483-7969-4fc0-bab8-863c196e7591",
   "metadata": {},
   "outputs": [
    {
     "data": {
      "text/latex": [
       "$\\displaystyle \\left[\\begin{matrix}\\frac{\\eta}{4} - \\frac{1}{4} & \\frac{\\xi}{4} - \\frac{1}{4}\\\\\\frac{1}{4} - \\frac{\\eta}{4} & - \\frac{\\xi}{4} - \\frac{1}{4}\\\\\\frac{\\eta}{4} + \\frac{1}{4} & \\frac{\\xi}{4} + \\frac{1}{4}\\\\- \\frac{\\eta}{4} - \\frac{1}{4} & \\frac{1}{4} - \\frac{\\xi}{4}\\end{matrix}\\right]$"
      ],
      "text/plain": [
       "Matrix([\n",
       "[ eta/4 - 1/4,  xi/4 - 1/4],\n",
       "[ 1/4 - eta/4, -xi/4 - 1/4],\n",
       "[ eta/4 + 1/4,  xi/4 + 1/4],\n",
       "[-eta/4 - 1/4,  1/4 - xi/4]])"
      ]
     },
     "execution_count": 40,
     "metadata": {},
     "output_type": "execute_result"
    }
   ],
   "source": [
    "NN_diff"
   ]
  },
  {
   "cell_type": "code",
   "execution_count": 41,
   "id": "6fe8a792-08dd-4580-b0aa-f941a597bc36",
   "metadata": {},
   "outputs": [
    {
     "data": {
      "text/latex": [
       "$\\displaystyle - \\frac{\\eta x_{1} y_{2}}{8} + \\frac{\\eta x_{1} y_{3}}{8} + \\frac{\\eta x_{2} y_{1}}{8} - \\frac{\\eta x_{2} y_{4}}{8} - \\frac{\\eta x_{3} y_{1}}{8} + \\frac{\\eta x_{3} y_{4}}{8} + \\frac{\\eta x_{4} y_{2}}{8} - \\frac{\\eta x_{4} y_{3}}{8} - \\frac{x_{1} \\xi y_{3}}{8} + \\frac{x_{1} \\xi y_{4}}{8} + \\frac{x_{1} y_{2}}{8} - \\frac{x_{1} y_{4}}{8} + \\frac{x_{2} \\xi y_{3}}{8} - \\frac{x_{2} \\xi y_{4}}{8} - \\frac{x_{2} y_{1}}{8} + \\frac{x_{2} y_{3}}{8} + \\frac{x_{3} \\xi y_{1}}{8} - \\frac{x_{3} \\xi y_{2}}{8} - \\frac{x_{3} y_{2}}{8} + \\frac{x_{3} y_{4}}{8} - \\frac{x_{4} \\xi y_{1}}{8} + \\frac{x_{4} \\xi y_{2}}{8} + \\frac{x_{4} y_{1}}{8} - \\frac{x_{4} y_{3}}{8}$"
      ],
      "text/plain": [
       "-eta*x_1*y_2/8 + eta*x_1*y_3/8 + eta*x_2*y_1/8 - eta*x_2*y_4/8 - eta*x_3*y_1/8 + eta*x_3*y_4/8 + eta*x_4*y_2/8 - eta*x_4*y_3/8 - x_1*xi*y_3/8 + x_1*xi*y_4/8 + x_1*y_2/8 - x_1*y_4/8 + x_2*xi*y_3/8 - x_2*xi*y_4/8 - x_2*y_1/8 + x_2*y_3/8 + x_3*xi*y_1/8 - x_3*xi*y_2/8 - x_3*y_2/8 + x_3*y_4/8 - x_4*xi*y_1/8 + x_4*xi*y_2/8 + x_4*y_1/8 - x_4*y_3/8"
      ]
     },
     "execution_count": 41,
     "metadata": {},
     "output_type": "execute_result"
    }
   ],
   "source": [
    "jacob_det"
   ]
  },
  {
   "cell_type": "code",
   "execution_count": 42,
   "id": "2aa97b54-0eef-4e7a-b3d0-8c78704ac709",
   "metadata": {},
   "outputs": [
    {
     "data": {
      "text/latex": [
       "$\\displaystyle \\left[\\begin{matrix}\\frac{- \\frac{y_{1} \\left(1 - \\xi\\right)}{4} - \\frac{y_{2} \\left(\\xi + 1\\right)}{4} + \\frac{y_{3} \\left(\\xi + 1\\right)}{4} + \\frac{y_{4} \\left(1 - \\xi\\right)}{4}}{\\left(- \\frac{x_{1} \\left(1 - \\eta\\right)}{4} + \\frac{x_{2} \\left(1 - \\eta\\right)}{4} + \\frac{x_{3} \\left(\\eta + 1\\right)}{4} - \\frac{x_{4} \\left(\\eta + 1\\right)}{4}\\right) \\left(- \\frac{y_{1} \\left(1 - \\xi\\right)}{4} - \\frac{y_{2} \\left(\\xi + 1\\right)}{4} + \\frac{y_{3} \\left(\\xi + 1\\right)}{4} + \\frac{y_{4} \\left(1 - \\xi\\right)}{4}\\right) - \\left(- \\frac{x_{1} \\left(1 - \\xi\\right)}{4} - \\frac{x_{2} \\left(\\xi + 1\\right)}{4} + \\frac{x_{3} \\left(\\xi + 1\\right)}{4} + \\frac{x_{4} \\left(1 - \\xi\\right)}{4}\\right) \\left(- \\frac{y_{1} \\left(1 - \\eta\\right)}{4} + \\frac{y_{2} \\left(1 - \\eta\\right)}{4} + \\frac{y_{3} \\left(\\eta + 1\\right)}{4} - \\frac{y_{4} \\left(\\eta + 1\\right)}{4}\\right)} & \\frac{\\frac{x_{1} \\left(1 - \\xi\\right)}{4} + \\frac{x_{2} \\left(\\xi + 1\\right)}{4} - \\frac{x_{3} \\left(\\xi + 1\\right)}{4} - \\frac{x_{4} \\left(1 - \\xi\\right)}{4}}{\\left(- \\frac{x_{1} \\left(1 - \\eta\\right)}{4} + \\frac{x_{2} \\left(1 - \\eta\\right)}{4} + \\frac{x_{3} \\left(\\eta + 1\\right)}{4} - \\frac{x_{4} \\left(\\eta + 1\\right)}{4}\\right) \\left(- \\frac{y_{1} \\left(1 - \\xi\\right)}{4} - \\frac{y_{2} \\left(\\xi + 1\\right)}{4} + \\frac{y_{3} \\left(\\xi + 1\\right)}{4} + \\frac{y_{4} \\left(1 - \\xi\\right)}{4}\\right) - \\left(- \\frac{x_{1} \\left(1 - \\xi\\right)}{4} - \\frac{x_{2} \\left(\\xi + 1\\right)}{4} + \\frac{x_{3} \\left(\\xi + 1\\right)}{4} + \\frac{x_{4} \\left(1 - \\xi\\right)}{4}\\right) \\left(- \\frac{y_{1} \\left(1 - \\eta\\right)}{4} + \\frac{y_{2} \\left(1 - \\eta\\right)}{4} + \\frac{y_{3} \\left(\\eta + 1\\right)}{4} - \\frac{y_{4} \\left(\\eta + 1\\right)}{4}\\right)}\\\\\\frac{\\frac{y_{1} \\left(1 - \\eta\\right)}{4} - \\frac{y_{2} \\left(1 - \\eta\\right)}{4} - \\frac{y_{3} \\left(\\eta + 1\\right)}{4} + \\frac{y_{4} \\left(\\eta + 1\\right)}{4}}{\\left(- \\frac{x_{1} \\left(1 - \\eta\\right)}{4} + \\frac{x_{2} \\left(1 - \\eta\\right)}{4} + \\frac{x_{3} \\left(\\eta + 1\\right)}{4} - \\frac{x_{4} \\left(\\eta + 1\\right)}{4}\\right) \\left(- \\frac{y_{1} \\left(1 - \\xi\\right)}{4} - \\frac{y_{2} \\left(\\xi + 1\\right)}{4} + \\frac{y_{3} \\left(\\xi + 1\\right)}{4} + \\frac{y_{4} \\left(1 - \\xi\\right)}{4}\\right) - \\left(- \\frac{x_{1} \\left(1 - \\xi\\right)}{4} - \\frac{x_{2} \\left(\\xi + 1\\right)}{4} + \\frac{x_{3} \\left(\\xi + 1\\right)}{4} + \\frac{x_{4} \\left(1 - \\xi\\right)}{4}\\right) \\left(- \\frac{y_{1} \\left(1 - \\eta\\right)}{4} + \\frac{y_{2} \\left(1 - \\eta\\right)}{4} + \\frac{y_{3} \\left(\\eta + 1\\right)}{4} - \\frac{y_{4} \\left(\\eta + 1\\right)}{4}\\right)} & \\frac{- \\frac{x_{1} \\left(1 - \\eta\\right)}{4} + \\frac{x_{2} \\left(1 - \\eta\\right)}{4} + \\frac{x_{3} \\left(\\eta + 1\\right)}{4} - \\frac{x_{4} \\left(\\eta + 1\\right)}{4}}{\\left(- \\frac{x_{1} \\left(1 - \\eta\\right)}{4} + \\frac{x_{2} \\left(1 - \\eta\\right)}{4} + \\frac{x_{3} \\left(\\eta + 1\\right)}{4} - \\frac{x_{4} \\left(\\eta + 1\\right)}{4}\\right) \\left(- \\frac{y_{1} \\left(1 - \\xi\\right)}{4} - \\frac{y_{2} \\left(\\xi + 1\\right)}{4} + \\frac{y_{3} \\left(\\xi + 1\\right)}{4} + \\frac{y_{4} \\left(1 - \\xi\\right)}{4}\\right) - \\left(- \\frac{x_{1} \\left(1 - \\xi\\right)}{4} - \\frac{x_{2} \\left(\\xi + 1\\right)}{4} + \\frac{x_{3} \\left(\\xi + 1\\right)}{4} + \\frac{x_{4} \\left(1 - \\xi\\right)}{4}\\right) \\left(- \\frac{y_{1} \\left(1 - \\eta\\right)}{4} + \\frac{y_{2} \\left(1 - \\eta\\right)}{4} + \\frac{y_{3} \\left(\\eta + 1\\right)}{4} - \\frac{y_{4} \\left(\\eta + 1\\right)}{4}\\right)}\\end{matrix}\\right]$"
      ],
      "text/plain": [
       "Matrix([\n",
       "[   (-y_1*(1 - xi)/4 - y_2*(xi + 1)/4 + y_3*(xi + 1)/4 + y_4*(1 - xi)/4)/((-x_1*(1 - eta)/4 + x_2*(1 - eta)/4 + x_3*(eta + 1)/4 - x_4*(eta + 1)/4)*(-y_1*(1 - xi)/4 - y_2*(xi + 1)/4 + y_3*(xi + 1)/4 + y_4*(1 - xi)/4) - (-x_1*(1 - xi)/4 - x_2*(xi + 1)/4 + x_3*(xi + 1)/4 + x_4*(1 - xi)/4)*(-y_1*(1 - eta)/4 + y_2*(1 - eta)/4 + y_3*(eta + 1)/4 - y_4*(eta + 1)/4)),      (x_1*(1 - xi)/4 + x_2*(xi + 1)/4 - x_3*(xi + 1)/4 - x_4*(1 - xi)/4)/((-x_1*(1 - eta)/4 + x_2*(1 - eta)/4 + x_3*(eta + 1)/4 - x_4*(eta + 1)/4)*(-y_1*(1 - xi)/4 - y_2*(xi + 1)/4 + y_3*(xi + 1)/4 + y_4*(1 - xi)/4) - (-x_1*(1 - xi)/4 - x_2*(xi + 1)/4 + x_3*(xi + 1)/4 + x_4*(1 - xi)/4)*(-y_1*(1 - eta)/4 + y_2*(1 - eta)/4 + y_3*(eta + 1)/4 - y_4*(eta + 1)/4))],\n",
       "[(y_1*(1 - eta)/4 - y_2*(1 - eta)/4 - y_3*(eta + 1)/4 + y_4*(eta + 1)/4)/((-x_1*(1 - eta)/4 + x_2*(1 - eta)/4 + x_3*(eta + 1)/4 - x_4*(eta + 1)/4)*(-y_1*(1 - xi)/4 - y_2*(xi + 1)/4 + y_3*(xi + 1)/4 + y_4*(1 - xi)/4) - (-x_1*(1 - xi)/4 - x_2*(xi + 1)/4 + x_3*(xi + 1)/4 + x_4*(1 - xi)/4)*(-y_1*(1 - eta)/4 + y_2*(1 - eta)/4 + y_3*(eta + 1)/4 - y_4*(eta + 1)/4)), (-x_1*(1 - eta)/4 + x_2*(1 - eta)/4 + x_3*(eta + 1)/4 - x_4*(eta + 1)/4)/((-x_1*(1 - eta)/4 + x_2*(1 - eta)/4 + x_3*(eta + 1)/4 - x_4*(eta + 1)/4)*(-y_1*(1 - xi)/4 - y_2*(xi + 1)/4 + y_3*(xi + 1)/4 + y_4*(1 - xi)/4) - (-x_1*(1 - xi)/4 - x_2*(xi + 1)/4 + x_3*(xi + 1)/4 + x_4*(1 - xi)/4)*(-y_1*(1 - eta)/4 + y_2*(1 - eta)/4 + y_3*(eta + 1)/4 - y_4*(eta + 1)/4))]])"
      ]
     },
     "execution_count": 42,
     "metadata": {},
     "output_type": "execute_result"
    }
   ],
   "source": [
    "jacob_inv"
   ]
  },
  {
   "cell_type": "code",
   "execution_count": 46,
   "id": "771a888a-f42e-491b-a939-ed3ed2a697ef",
   "metadata": {},
   "outputs": [
    {
     "data": {
      "text/latex": [
       "$\\displaystyle \\left[\\begin{matrix}1 & 1\\\\1 & 1\\end{matrix}\\right]$"
      ],
      "text/plain": [
       "Matrix([\n",
       "[1, 1],\n",
       "[1, 1]])"
      ]
     },
     "execution_count": 46,
     "metadata": {},
     "output_type": "execute_result"
    }
   ],
   "source": [
    "D"
   ]
  },
  {
   "cell_type": "code",
   "execution_count": 53,
   "id": "f92588b1-6be8-4450-99f3-f516a059337a",
   "metadata": {},
   "outputs": [],
   "source": [
    "a = NN_diff_global.subs(([xi, -sq3], [eta, -sq3], [x_1, -0.8], [x_2, 0], [x_3, 0.8], [x_4, 0], [y_1, 0], [y_2, -0.8], [y_3, 0], [y_4, 0.8]))"
   ]
  },
  {
   "cell_type": "code",
   "execution_count": 54,
   "id": "145f56e7-359f-4f82-a49f-3e21a73cba54",
   "metadata": {},
   "outputs": [],
   "source": [
    "b = NN_diff_global.subs(([xi, sq3], [eta, -sq3], [x_1, -0.8], [x_2, 0], [x_3, 0.8], [x_4, 0], [y_1, 0], [y_2, -0.8], [y_3, 0], [y_4, 0.8]))"
   ]
  },
  {
   "cell_type": "code",
   "execution_count": 55,
   "id": "24fb4f95-1e4c-4745-9550-273536f9dcf9",
   "metadata": {},
   "outputs": [],
   "source": [
    "c = NN_diff_global.subs(([xi, sq3], [eta, +sq3], [x_1, -0.8], [x_2, 0], [x_3, 0.8], [x_4, 0], [y_1, 0], [y_2, -0.8], [y_3, 0], [y_4, 0.8]))"
   ]
  },
  {
   "cell_type": "code",
   "execution_count": 56,
   "id": "040fda80-b66d-4cab-9229-7ee3019edd6f",
   "metadata": {},
   "outputs": [],
   "source": [
    "d = NN_diff_global.subs(([xi, -sq3], [eta, +sq3], [x_1, -0.8], [x_2, 0], [x_3, 0.8], [x_4, 0], [y_1, 0], [y_2, -0.8], [y_3, 0], [y_4, 0.8]))"
   ]
  },
  {
   "cell_type": "code",
   "execution_count": 57,
   "id": "84247786-99ee-49eb-b602-4979bf421a38",
   "metadata": {},
   "outputs": [
    {
     "data": {
      "text/latex": [
       "$\\displaystyle \\left[\\begin{matrix}-0.985843918243516 & 0\\\\0.360843918243516 & -0.625\\\\0.264156081756484 & 0\\\\0.360843918243516 & 0.625\\end{matrix}\\right]$"
      ],
      "text/plain": [
       "Matrix([\n",
       "[-0.985843918243516,      0],\n",
       "[ 0.360843918243516, -0.625],\n",
       "[ 0.264156081756484,      0],\n",
       "[ 0.360843918243516,  0.625]])"
      ]
     },
     "execution_count": 57,
     "metadata": {},
     "output_type": "execute_result"
    }
   ],
   "source": [
    "a"
   ]
  },
  {
   "cell_type": "code",
   "execution_count": 67,
   "id": "b1466551-595f-42b6-8456-9e9c88e62ff5",
   "metadata": {},
   "outputs": [],
   "source": [
    "aa = np.array(a, dtype=np.float32)\n",
    "bb = np.array(b, dtype=np.float32)\n",
    "cc = np.array(c, dtype=np.float32)\n",
    "dd = np.array(d, dtype=np.float32)"
   ]
  },
  {
   "cell_type": "code",
   "execution_count": 68,
   "id": "260132a5-7d70-4d48-bd07-01e994b6342d",
   "metadata": {},
   "outputs": [
    {
     "data": {
      "text/plain": [
       "array([[-0.9858439 ,  0.        ],\n",
       "       [ 0.36084393, -0.625     ],\n",
       "       [ 0.26415607,  0.        ],\n",
       "       [ 0.36084393,  0.625     ]], dtype=float32)"
      ]
     },
     "execution_count": 68,
     "metadata": {},
     "output_type": "execute_result"
    }
   ],
   "source": [
    "aa"
   ]
  },
  {
   "cell_type": "code",
   "execution_count": 66,
   "id": "c149f14c-dce0-41c2-a460-243b98be8563",
   "metadata": {},
   "outputs": [
    {
     "data": {
      "text/plain": [
       "array([[[ 0.31100422, -0.11383545, -0.08333333, -0.11383545],\n",
       "        [-0.11383545,  0.04166667,  0.03050212,  0.04166667],\n",
       "        [-0.08333333,  0.03050212,  0.0223291 ,  0.03050212],\n",
       "        [-0.11383545,  0.04166667,  0.03050212,  0.04166667]],\n",
       "\n",
       "       [[ 0.        ,  0.        ,  0.        ,  0.        ],\n",
       "        [ 0.        ,  0.125     ,  0.        , -0.125     ],\n",
       "        [ 0.        ,  0.        ,  0.        ,  0.        ],\n",
       "        [ 0.        , -0.125     ,  0.        ,  0.125     ]]],\n",
       "      dtype=float32)"
      ]
     },
     "execution_count": 66,
     "metadata": {},
     "output_type": "execute_result"
    }
   ],
   "source": [
    "np.einsum('mi,ni->imn', aa, aa)*0.32"
   ]
  },
  {
   "cell_type": "code",
   "execution_count": 69,
   "id": "c60db494-ab90-4b79-b38b-dcbe37b7a123",
   "metadata": {},
   "outputs": [
    {
     "data": {
      "text/plain": [
       "array([[[ 0.5833333 , -0.08333333, -0.41666663, -0.08333333],\n",
       "        [-0.08333333,  0.08333334, -0.08333333,  0.08333334],\n",
       "        [-0.41666663, -0.08333333,  0.5833333 , -0.08333333],\n",
       "        [-0.08333333,  0.08333334, -0.08333333,  0.08333334]],\n",
       "\n",
       "       [[ 0.08333334, -0.08333333,  0.08333334, -0.08333333],\n",
       "        [-0.08333333,  0.5833333 , -0.08333333, -0.41666663],\n",
       "        [ 0.08333334, -0.08333333,  0.08333334, -0.08333333],\n",
       "        [-0.08333333, -0.41666663, -0.08333333,  0.5833333 ]]],\n",
       "      dtype=float32)"
      ]
     },
     "execution_count": 69,
     "metadata": {},
     "output_type": "execute_result"
    }
   ],
   "source": [
    "(np.einsum('mi,ni->imn', aa, aa)+np.einsum('mi,ni->imn', bb, bb)+\\\n",
    "np.einsum('mi,ni->imn', cc, cc)+np.einsum('mi,ni->imn', dd, dd))*0.32"
   ]
  },
  {
   "cell_type": "code",
   "execution_count": null,
   "id": "77488e97-497a-4e2f-84c7-08b979fa9cc2",
   "metadata": {},
   "outputs": [],
   "source": []
  }
 ],
 "metadata": {
  "kernelspec": {
   "display_name": "Python 3 (ipykernel)",
   "language": "python",
   "name": "python3"
  },
  "language_info": {
   "codemirror_mode": {
    "name": "ipython",
    "version": 3
   },
   "file_extension": ".py",
   "mimetype": "text/x-python",
   "name": "python",
   "nbconvert_exporter": "python",
   "pygments_lexer": "ipython3",
   "version": "3.8.10"
  }
 },
 "nbformat": 4,
 "nbformat_minor": 5
}
